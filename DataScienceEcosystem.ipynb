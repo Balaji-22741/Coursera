{
 "cells": [
  {
   "cell_type": "markdown",
   "id": "b869a3c1-993b-4a3e-9f3e-0228b5394f18",
   "metadata": {},
   "source": [
    "# Data Science Tools and Ecosystem "
   ]
  },
  {
   "cell_type": "markdown",
   "id": "047853ef-75db-4c84-a09a-eec9c304b0dd",
   "metadata": {
    "tags": []
   },
   "source": [
    "## Introduction:\n",
    "### In this notebook, Data Science Tools and Ecosystem are summarized."
   ]
  },
  {
   "cell_type": "markdown",
   "id": "1886b766-7ddc-4820-97c8-e1633ea4a0e7",
   "metadata": {},
   "source": [
    "**Objectives:**\n",
    " - List Popular Languages for Data Science\n",
    " - Data Science tools\n",
    " - Jupyter Lab"
   ]
  },
  {
   "cell_type": "markdown",
   "id": "31eb9369-9ca3-4c96-bdbe-530abcfd82fe",
   "metadata": {},
   "source": [
    "## Some of the popular languages that Data Scientists use are:\n",
    "### 1. Python\n",
    "### 2. R\n",
    "### 3. Java\n",
    "### 4. Scala"
   ]
  },
  {
   "cell_type": "markdown",
   "id": "67cb7793-e3de-4b2e-bc52-12f4437d877f",
   "metadata": {},
   "source": [
    "## Some of the commonly used libraries used by Data Scientists include:\n",
    "### 1. Pandas\n",
    "### 2. Numpy\n",
    "### 3. Matplotlib\n",
    "### 4. Seaborn"
   ]
  },
  {
   "cell_type": "markdown",
   "id": "8ad468cf-edcd-49eb-a32e-86b23432da1c",
   "metadata": {},
   "source": [
    "   | Data Science Tools |\n",
    "   |--------------------|\n",
    "   | R Studio           |\n",
    "   | Apache Spark       |\n",
    "   | TensorFlow         |"
   ]
  },
  {
   "cell_type": "markdown",
   "id": "fdda163b-b1dd-4065-b202-3cb758fb9557",
   "metadata": {},
   "source": [
    "### Below are a few examples of evaluating arithmetic expressions in Python."
   ]
  },
  {
   "cell_type": "code",
   "execution_count": 5,
   "id": "1ca661b6-b92c-491f-8a44-0db37d601684",
   "metadata": {},
   "outputs": [
    {
     "data": {
      "text/plain": [
       "17"
      ]
     },
     "execution_count": 5,
     "metadata": {},
     "output_type": "execute_result"
    }
   ],
   "source": [
    "# This a simple arithmetic expression to mutiply then add integers.\n",
    "(3*4)+5"
   ]
  },
  {
   "cell_type": "code",
   "execution_count": 6,
   "id": "01aaab69-92e2-40eb-9d27-f562b7e4c8bf",
   "metadata": {},
   "outputs": [
    {
     "data": {
      "text/plain": [
       "3.3333333333333335"
      ]
     },
     "execution_count": 6,
     "metadata": {},
     "output_type": "execute_result"
    }
   ],
   "source": [
    "# This will convert 200 minutes tohours by diving by 60.\n",
    "200 / 60"
   ]
  },
  {
   "cell_type": "markdown",
   "id": "03089bfc-7820-4ad4-81c2-f34ad560fd17",
   "metadata": {},
   "source": [
    "## Author\n",
    "### Balaji"
   ]
  },
  {
   "cell_type": "code",
   "execution_count": null,
   "id": "20a288d4-0f45-447a-ba99-8888643a4c48",
   "metadata": {},
   "outputs": [],
   "source": []
  }
 ],
 "metadata": {
  "kernelspec": {
   "display_name": "Python 3 (ipykernel)",
   "language": "python",
   "name": "python3"
  },
  "language_info": {
   "codemirror_mode": {
    "name": "ipython",
    "version": 3
   },
   "file_extension": ".py",
   "mimetype": "text/x-python",
   "name": "python",
   "nbconvert_exporter": "python",
   "pygments_lexer": "ipython3",
   "version": "3.9.13"
  }
 },
 "nbformat": 4,
 "nbformat_minor": 5
}
